{
 "cells": [
  {
   "cell_type": "code",
   "execution_count": null,
   "id": "abe7c05b",
   "metadata": {},
   "outputs": [],
   "source": [
    "# Importing all necessary libraries.\n",
    "\n",
    "import numpy as np\n",
    "import pandas as pd\n",
    "import seaborn as sns\n",
    "import plotly.express as px\n",
    "import matplotlib.pyplot as plt\n",
    "\n",
    "import os\n",
    "import math\n",
    "import scipy\n",
    "import pprint\n",
    "\n",
    "# import scikit-learn as sk\n",
    "\n",
    "import warnings\n",
    "warnings.filterwarnings('ignore')"
   ]
  },
  {
   "cell_type": "code",
   "execution_count": null,
   "id": "f5fa7e14",
   "metadata": {},
   "outputs": [],
   "source": [
    "# Fetching the dataset (csv file).\n",
    "\n",
    "df = pd.read_csv('E:\\\\Govind_Work_Folder\\\\Career247_(Data_Science_Course)\\\\03. Data Science Course (Career247)\\\\Module 4 (Machine Learning)\\\\DecisionTreesImplementaion\\\\DecisionTreesFoundations\\\\breast_cancer_data.csv')\n",
    "df.head()"
   ]
  },
  {
   "cell_type": "markdown",
   "id": "62ba64c3",
   "metadata": {},
   "source": [
    "##### Step 1: EDA (Exploratory Data Analysis)"
   ]
  },
  {
   "cell_type": "code",
   "execution_count": null,
   "id": "5418f816",
   "metadata": {},
   "outputs": [],
   "source": [
    "# 1. Check basic informations.\n",
    "\n",
    "print(\"Shape:\", df.shape)\n",
    "print(\"*\" * 80)\n",
    "\n",
    "print(\"Columns:\", df.columns)\n",
    "print(\"*\" * 80)\n",
    "\n",
    "print(df.info())\n",
    "print(\"*\" * 80)\n",
    "\n",
    "print(df.describe())\n",
    "print(\"*\" * 80)"
   ]
  },
  {
   "cell_type": "code",
   "execution_count": null,
   "id": "6e7e5bcc",
   "metadata": {},
   "outputs": [],
   "source": [
    "# 2. Check for missing values.\n",
    "\n",
    "print(\"Null Value Check:\", df.isnull().sum())"
   ]
  },
  {
   "cell_type": "code",
   "execution_count": null,
   "id": "6fa32394",
   "metadata": {},
   "outputs": [],
   "source": [
    "# 3. Correlation matrix.\n",
    "\n",
    "print(\"Correlation Matrix:\")\n",
    "# print(df.corr())\n",
    "print(df.corr(numeric_only=True))"
   ]
  },
  {
   "cell_type": "code",
   "execution_count": null,
   "id": "655e7499",
   "metadata": {},
   "outputs": [],
   "source": [
    "# 4. Visualize the data.\n",
    "\n",
    "sns.heatmap(df.corr(numeric_only=True), annot=True, fmt=\".2f\", cmap=\"coolwarm\")\n",
    "plt.title(\"Correlation Matrix Heatmap\")\n",
    "plt.show()"
   ]
  },
  {
   "cell_type": "code",
   "execution_count": null,
   "id": "c0690285",
   "metadata": {},
   "outputs": [],
   "source": [
    "# Sample data for line plot.\n",
    "\n",
    "df10 = pd.DataFrame({\n",
    "    \"x-axis\": [1, 2, 3, 4, 5],\n",
    "    \"y-axis\": [10, 15, 13, 17, 20]\n",
    "})\n",
    "\n",
    "# Create line plot\n",
    "\n",
    "fig = px.line(df10, x=\"x-axis\", y=\"y-axis\", title=\"Simple Line Plot (Using Plotly Express)\")\n",
    "fig.show()"
   ]
  },
  {
   "cell_type": "code",
   "execution_count": null,
   "id": "806c674f",
   "metadata": {},
   "outputs": [],
   "source": [
    "# Sample data for scatter plot with categories.\n",
    "\n",
    "df20 = pd.DataFrame({\n",
    "    \"x\": [1, 2, 3, 4, 5, 6],\n",
    "    \"y\": [10, 14, 12, 18, 22, 19],\n",
    "    \"category\": [\"A\", \"B\", \"A\", \"B\", \"A\", \"B\"]\n",
    "})\n",
    "\n",
    "# Create scatter plot\n",
    "\n",
    "fig = px.scatter(df20, x=\"x\", y=\"y\", color=\"category\", size=\"y\", title=\"Scatter Plot with Categories (Using Plotly Express)\")\n",
    "fig.show()"
   ]
  },
  {
   "cell_type": "code",
   "execution_count": null,
   "id": "06960330",
   "metadata": {},
   "outputs": [],
   "source": [
    "# Deleting columns:\n",
    "\n",
    "print(\"Dropping the redundant\\n\")\n",
    "df.drop(columns = ['id', 'Unnamed: 32'], axis = 1, inplace = True)\n",
    "df.shape"
   ]
  },
  {
   "cell_type": "code",
   "execution_count": null,
   "id": "d596655e",
   "metadata": {},
   "outputs": [],
   "source": [
    "print(\"Unique value of Diagnosis column in the output label: \\n\")\n",
    "print(df['diagnosis'].unique())"
   ]
  },
  {
   "cell_type": "code",
   "execution_count": null,
   "id": "1e8dbf47",
   "metadata": {},
   "outputs": [],
   "source": [
    "# Output label / Target variable / Y-label : data distribution \n",
    "# pie-plot : proportion of M v/s B\n",
    "\n",
    "px.pie(df, \n",
    "       'diagnosis',\n",
    "       color = 'diagnosis',\n",
    "       color_discrete_sequence = ['#007500','#5CFF5C'],\n",
    "       title = \"Data Distribution\")\n",
    "\n",
    "# Inferences :\n",
    "# dataset is imbalanced (M : B = 63:37).\n",
    "# there are more cases of benign tumors than malignant tumors.\n",
    "# for imbalanced datasets, accuracy can be a misleading metric.\n",
    "# for example, if 90% of the cases are benign, the model will always predict \"benign\".\n",
    "# in such cases, we need \"Balanced accuracy\"."
   ]
  },
  {
   "cell_type": "code",
   "execution_count": null,
   "id": "7cc45cbd",
   "metadata": {},
   "outputs": [],
   "source": [
    "# visually compare the distribution of each feature.\n",
    "# for malignant tumours versus bening.\n",
    "# for a given feature, do its values tend to be different for malignant vs benign cases.\n",
    "\n",
    "for column in df.drop(\"diagnosis\", axis = 1).columns[:5]:\n",
    "\n",
    "    # for loop auto iterates through the first five feature columns in the dataframe.\n",
    "\n",
    "    fig = px.box(data_frame = df,\n",
    "                 x = 'diagnosis',\n",
    "                 color = 'diagnosis',\n",
    "                 y = column,\n",
    "                 color_discrete_sequence = ['#007500','#5CFF5C'],\n",
    "                 orientation = 'v')\n",
    "    fig.show()"
   ]
  },
  {
   "cell_type": "code",
   "execution_count": null,
   "id": "6a28131c",
   "metadata": {},
   "outputs": [],
   "source": [
    "for column in df.drop(\"diagnosis\",axis=1).columns[5:10]:\n",
    "    \n",
    "    # for loop auto iterates through the first five feature columns in the dataframe\n",
    "    fig = px.scatter(data_frame =df ,\n",
    "                 x=column,\n",
    "                 color = 'diagnosis',\n",
    "                 color_discrete_sequence = ['#007500','#5CFF5C'],\n",
    "                 orientation = 'v')\n",
    "    fig.show()"
   ]
  },
  {
   "cell_type": "markdown",
   "id": "ebb0ef43",
   "metadata": {},
   "source": [
    "##### Step 2: Creating corelation with the targer variable."
   ]
  },
  {
   "cell_type": "code",
   "execution_count": null,
   "id": "042311e4",
   "metadata": {},
   "outputs": [],
   "source": [
    "# diagnosis : M or B :categorical\n",
    "# encode : 1 or 0 :categorical\n",
    "\n",
    "# this line converts the categorical feature into numerical\n",
    "df['diagnosis'] = (df['diagnosis'] == 'M').astype(int)\n",
    "\n",
    "# setting M = 1  then B = 0\n",
    "\n",
    "# take the correlation\n",
    "corr = df.corr()\n",
    "plt.figure(figsize = (20,20))\n",
    "\n",
    "# heatmap \n",
    "sns.heatmap(corr , cmap = 'viridis_r' , annot = True)\n",
    "\n",
    "plt.show()\n",
    "# correlation goes between : -1 to 1"
   ]
  },
  {
   "cell_type": "code",
   "execution_count": null,
   "id": "bdc095f0",
   "metadata": {},
   "outputs": [],
   "source": [
    "# We can also use it for corelation without chart.\n",
    "df.corr()"
   ]
  },
  {
   "cell_type": "markdown",
   "id": "91175898",
   "metadata": {},
   "source": [
    "##### Step 3: Feature Selection (Feature Engineering)"
   ]
  },
  {
   "cell_type": "code",
   "execution_count": null,
   "id": "efc42bdf",
   "metadata": {},
   "outputs": [],
   "source": [
    "# We should now choose which features are good enough predictors to be used to train the model \n",
    "# get the absoulte correlation \n",
    "\n",
    "# select better correlated features\n",
    "# this is the filtering step\n",
    "# it creates a new list of relevant features\n",
    "cor_target = abs(corr['diagnosis'])\n",
    "\n",
    "\n",
    "# 0.25 is user defined. It is the hyper-parameter value\n",
    "relevant_features = cor_target[cor_target > 0.25]\n",
    "\n",
    "# collect the names of features\n",
    "# list comprehension\n",
    "\n",
    "names = [index for index,value in relevant_features.items()]\n",
    "\n",
    "# Drop the target variable from the results\n",
    "names.remove(\"diagnosis\")\n",
    "\n",
    "pprint.pprint(names)"
   ]
  },
  {
   "cell_type": "code",
   "execution_count": null,
   "id": "aecaa69a",
   "metadata": {},
   "outputs": [],
   "source": []
  },
  {
   "cell_type": "code",
   "execution_count": null,
   "id": "1bf2ae4a",
   "metadata": {},
   "outputs": [],
   "source": []
  }
 ],
 "metadata": {
  "kernelspec": {
   "display_name": "base",
   "language": "python",
   "name": "python3"
  },
  "language_info": {
   "codemirror_mode": {
    "name": "ipython",
    "version": 3
   },
   "file_extension": ".py",
   "mimetype": "text/x-python",
   "name": "python",
   "nbconvert_exporter": "python",
   "pygments_lexer": "ipython3",
   "version": "3.12.7"
  }
 },
 "nbformat": 4,
 "nbformat_minor": 5
}
